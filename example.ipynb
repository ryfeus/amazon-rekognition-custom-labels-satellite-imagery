{
 "cells": [
  {
   "cell_type": "code",
   "execution_count": 2,
   "metadata": {},
   "outputs": [],
   "source": [
    "import json\n",
    "import cv2\n",
    "from matplotlib import pyplot as plt\n",
    "with open('response.json') as f:\n",
    "      data = json.load(f)\n",
    "\n",
    "image = cv2.imread('example.png')\n",
    "image = cv2.cvtColor(image, cv2.COLOR_BGR2RGB)\n",
    "\n",
    "(height,width,channels)=image.shape\n",
    "for pred in data['CustomLabels']:\n",
    "    prediction = pred['Name']\n",
    "    if prediction == 'active field':\n",
    "        color = (255, 0, 0)\n",
    "    elif prediction == 'semi-active field':\n",
    "        color = (255, 255, 0)\n",
    "    else:\n",
    "        color = (0, 0, 255)\n",
    "    bbox = pred['Geometry']['BoundingBox']\n",
    "    start_point = (int(bbox['Left']*width), int(bbox['Top']*height))\n",
    "    end_point = (int((bbox['Left']+bbox['Width'])*width), int((bbox['Top']+bbox['Height'])*height))\n",
    "    image = cv2.rectangle(image, start_point, end_point, color, 2)\n",
    "\n",
    "plt.imshow(image)\n",
    "plt.title('example')\n",
    "plt.show()"
   ]
  },
  {
   "cell_type": "code",
   "execution_count": 2,
   "metadata": {},
   "outputs": [],
   "source": []
  },
  {
   "cell_type": "code",
   "execution_count": 14,
   "metadata": {},
   "outputs": [],
   "source": [
    "data"
   ]
  },
  {
   "cell_type": "code",
   "execution_count": 19,
   "metadata": {},
   "outputs": [],
   "source": [
    "image = cv2.imread('1.png')\n",
    "image = cv2.cvtColor(image, cv2.COLOR_BGR2RGB)\n",
    "\n",
    "(height,width,channels)=image.shape\n",
    "for pred in data['CustomLabels']:\n",
    "    prediction = pred['Name']\n",
    "    if prediction == 'active field':\n",
    "        color = (255, 0, 0)\n",
    "    elif prediction == 'semi-active field':\n",
    "        color = (255, 255, 0)\n",
    "    else:\n",
    "        color = (0, 0, 255)\n",
    "    bbox = pred['Geometry']['BoundingBox']\n",
    "    start_point = (int(bbox['Left']*width), int(bbox['Top']*height))\n",
    "    end_point = (int((bbox['Left']+bbox['Width'])*width), int((bbox['Top']+bbox['Height'])*height))\n",
    "    image = cv2.rectangle(image, start_point, end_point, color, 2)"
   ]
  },
  {
   "cell_type": "code",
   "execution_count": 20,
   "metadata": {},
   "outputs": [],
   "source": [
    "plt.imshow(image)\n",
    "plt.title('example')\n",
    "plt.show()"
   ]
  },
  {
   "cell_type": "code",
   "execution_count": null,
   "metadata": {},
   "outputs": [],
   "source": []
  }
 ],
 "metadata": {
  "kernelspec": {
   "display_name": "Python 3",
   "language": "python",
   "name": "python3"
  },
  "language_info": {
   "codemirror_mode": {
    "name": "ipython",
    "version": 3
   },
   "file_extension": ".py",
   "mimetype": "text/x-python",
   "name": "python",
   "nbconvert_exporter": "python",
   "pygments_lexer": "ipython3",
   "version": "3.7.6"
  }
 },
 "nbformat": 4,
 "nbformat_minor": 4
}